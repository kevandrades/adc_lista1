{
 "cells": [
  {
   "cell_type": "code",
   "execution_count": 71,
   "metadata": {
    "vscode": {
     "languageId": "r"
    }
   },
   "outputs": [],
   "source": [
    "library(data.table)\n",
    "\n",
    "divide <- function(vec) vec[1] / vec[2]"
   ]
  },
  {
   "cell_type": "markdown",
   "metadata": {},
   "source": [
    "Estude as Unidades 1 e 2 e resolva os exercícios 2.3, 2.5, 2.1, 2.27 e 2.30 indicados na Lista 2 de exercícios."
   ]
  },
  {
   "cell_type": "markdown",
   "metadata": {},
   "source": [
    "#### Questão 2.3\n",
    "\n",
    "__*De acordo com dados recentes da ONU, a taxa anual de homicídios por arma de fogo é de 62,4 por um milhão de residentes nos Estados Unidos e 1,3 por um milhão de residentes no Reino Unido.*__"
   ]
  },
  {
   "cell_type": "code",
   "execution_count": 43,
   "metadata": {
    "vscode": {
     "languageId": "r"
    }
   },
   "outputs": [],
   "source": [
    "uk_homicide <- 1.3 / 1e6\n",
    "usa_homicide <- 62.4 / 1e6"
   ]
  },
  {
   "cell_type": "markdown",
   "metadata": {},
   "source": [
    "&emsp;__*a. Compare a proporção de moradores mortos anualmente por armas usando:*__\n",
    "\n",
    "&emsp;&emsp;(i) __*diferença de proporções,*__\n",
    "\n",
    "&emsp;&emsp;(ii) __*risco relativo.*__"
   ]
  },
  {
   "cell_type": "code",
   "execution_count": 50,
   "metadata": {
    "vscode": {
     "languageId": "r"
    }
   },
   "outputs": [
    {
     "data": {
      "text/html": [
       "6.11e-05"
      ],
      "text/latex": [
       "6.11e-05"
      ],
      "text/markdown": [
       "6.11e-05"
      ],
      "text/plain": [
       "[1] 6.11e-05"
      ]
     },
     "metadata": {},
     "output_type": "display_data"
    }
   ],
   "source": [
    "usa_homicide - uk_homicide"
   ]
  },
  {
   "cell_type": "code",
   "execution_count": 51,
   "metadata": {
    "vscode": {
     "languageId": "r"
    }
   },
   "outputs": [
    {
     "data": {
      "text/html": [
       "48"
      ],
      "text/latex": [
       "48"
      ],
      "text/markdown": [
       "48"
      ],
      "text/plain": [
       "[1] 48"
      ]
     },
     "metadata": {},
     "output_type": "display_data"
    }
   ],
   "source": [
    "usa_homicide / uk_homicide"
   ]
  },
  {
   "cell_type": "markdown",
   "metadata": {},
   "source": [
    "&emsp;__*b. Quando ambas as proporções estão muito próximas de 0, como aqui, qual medida é mais útil para descrever a força da associação? Por quê?*__\n",
    "\n",
    "O risco relativo é o ideal para comparação de proporções pequenas. Como visto no exemplo acima, o valor da diferença deu surpreendentemente pequeno, o que poderia dar uma impressão errônea de que o número de homicídios por milhão de habitantes é próximo nos Estados Unidos e no Reino Unido, o que não é o caso! Na verdade, o número de homicídios nos Estados Unidos foi 48 vezes maior do que no Reino Unido, informação que não pode ser obtida a partir de uma simples diferença. Dessa forma, o risco relativo evita que tenhamos conclusões erradas ao fazer esse tipo de comparação."
   ]
  },
  {
   "cell_type": "markdown",
   "metadata": {},
   "source": [
    "#### Questão 2.5\n",
    "\n",
    "*Considere os seguintes estudos reportados no New York Times:*\n",
    "\n",
    "&emsp;__*a. Um estudo britânico (3 de dezembro de 1998) relatou que, dos fumantes que têm câncer de pulmão, “as mulheres eram 1,7 vezes mais vulneráveis do que os homens a ter câncer de pequenas células”. 1,7 é uma razão de chances ou um risco relativo?*__\n",
    "\n",
    "É um risco relativo! Ao dizer que as mulheres são 1,7 vezes mais vulneráveis, estamos estabelecendo que a probabilidade de obter câncer de pulmão é 1,7 vezes maior para mulheres do que para homens, o que é, por definição, um risco relativo, dado que estamos tratando de probabilidades (e não de chances).\n",
    "\n",
    "&emsp;__*b. Um estudo do National Cancer Institute (7 de abril de 1998), sobre tamoxifeno e câncer de mama, relatou que as mulheres que tomaram a droga tinham 45% menos probabilidade de ter câncer de mama invasivo em comparação com as mulheres que tomaram placebo. Encontre o risco relativo para*__\n",
    "\n",
    "&emsp;&emsp;(i) __*aqueles que tomam o medicamento em comparação com aqueles que tomam placebo.*__\n",
    "\n",
    "Seja $\\pi_1$ a probabilidade do grupo com placebo ter câncer de pulmão, e $\\pi_2$ a probabilidade do grupo com o medicamento ter câncer de pulmão. É dado que:\n",
    "\n",
    "$\\pi_1 = 0.55\\pi_2$\n",
    "\n",
    "De modo que:\n",
    "\n",
    "$\\pi_2/\\pi_1 = 0.55$\n",
    "\n",
    "&emsp;&emsp;(ii) __*aqueles que tomam placebo comparados aos que tomam a droga*__\n",
    "\n",
    "Basta inverter:\n",
    "\n",
    "$\\pi_1/\\pi_2 = 1/0.55 = 1.81$"
   ]
  },
  {
   "cell_type": "markdown",
   "metadata": {},
   "source": [
    "#### Questão 2.1\n",
    "__*Um estudo sueco considerou o efeito da aspirina em baixas doses na redução do risco de derrame e ataques cardíacos entre pessoas que já sofreram um derrame (Lancet 338: 1345-1349 (1991)). Dos 1.360 pacientes, 676 foram aleatoriamente designados para o tratamento com aspirina (um comprimido de baixa dose por dia) e 684 para um tratamento com placebo. Durante um período de acompanhamento de cerca de três anos, o número de mortes por infarto do miocárdio foi de 18 para o grupo aspirina e 28 para o grupo placebo.*__"
   ]
  },
  {
   "cell_type": "code",
   "execution_count": 30,
   "metadata": {
    "vscode": {
     "languageId": "r"
    }
   },
   "outputs": [
    {
     "data": {
      "text/html": [
       "<table class=\"dataframe\">\n",
       "<caption>A data.table: 2 × 6</caption>\n",
       "<thead>\n",
       "\t<tr><th scope=col>tratamento</th><th scope=col>morte</th><th scope=col>sobrevida</th><th scope=col>n</th><th scope=col>ps</th><th scope=col>pf</th></tr>\n",
       "\t<tr><th scope=col>&lt;chr&gt;</th><th scope=col>&lt;dbl&gt;</th><th scope=col>&lt;dbl&gt;</th><th scope=col>&lt;dbl&gt;</th><th scope=col>&lt;dbl&gt;</th><th scope=col>&lt;dbl&gt;</th></tr>\n",
       "</thead>\n",
       "<tbody>\n",
       "\t<tr><td>placebo </td><td>28</td><td>656</td><td>684</td><td>0.04093567</td><td>0.9590643</td></tr>\n",
       "\t<tr><td>aspirina</td><td>18</td><td>658</td><td>676</td><td>0.02662722</td><td>0.9733728</td></tr>\n",
       "</tbody>\n",
       "</table>\n"
      ],
      "text/latex": [
       "A data.table: 2 × 6\n",
       "\\begin{tabular}{llllll}\n",
       " tratamento & morte & sobrevida & n & ps & pf\\\\\n",
       " <chr> & <dbl> & <dbl> & <dbl> & <dbl> & <dbl>\\\\\n",
       "\\hline\n",
       "\t placebo  & 28 & 656 & 684 & 0.04093567 & 0.9590643\\\\\n",
       "\t aspirina & 18 & 658 & 676 & 0.02662722 & 0.9733728\\\\\n",
       "\\end{tabular}\n"
      ],
      "text/markdown": [
       "\n",
       "A data.table: 2 × 6\n",
       "\n",
       "| tratamento &lt;chr&gt; | morte &lt;dbl&gt; | sobrevida &lt;dbl&gt; | n &lt;dbl&gt; | ps &lt;dbl&gt; | pf &lt;dbl&gt; |\n",
       "|---|---|---|---|---|---|\n",
       "| placebo  | 28 | 656 | 684 | 0.04093567 | 0.9590643 |\n",
       "| aspirina | 18 | 658 | 676 | 0.02662722 | 0.9733728 |\n",
       "\n"
      ],
      "text/plain": [
       "  tratamento morte sobrevida n   ps         pf       \n",
       "1 placebo    28    656       684 0.04093567 0.9590643\n",
       "2 aspirina   18    658       676 0.02662722 0.9733728"
      ]
     },
     "metadata": {},
     "output_type": "display_data"
    }
   ],
   "source": [
    "aspirina <- data.table(\n",
    "    tratamento = c(\"placebo\", \"aspirina\"),\n",
    "    morte = c(28, 18),\n",
    "    sobrevida = c(684, 676) - c(28, 18),\n",
    "    n = c(684, 676)\n",
    ")\n",
    "\n",
    "aspirina[, ps := morte / n]\n",
    "\n",
    "aspirina[, pf := 1 - ps]\n",
    "\n",
    "aspirina"
   ]
  },
  {
   "cell_type": "markdown",
   "metadata": {},
   "source": [
    "__*a. Calcular e interpretar a diferença de proporções, risco relativo de morte e odds ratio.*__"
   ]
  },
  {
   "cell_type": "code",
   "execution_count": 33,
   "metadata": {
    "vscode": {
     "languageId": "r"
    }
   },
   "outputs": [
    {
     "data": {
      "text/html": [
       "0.0143084535797086"
      ],
      "text/latex": [
       "0.0143084535797086"
      ],
      "text/markdown": [
       "0.0143084535797086"
      ],
      "text/plain": [
       "[1] 0.01430845"
      ]
     },
     "metadata": {},
     "output_type": "display_data"
    }
   ],
   "source": [
    "# diferença de proporções\n",
    "diff(aspirina[order(tratamento), morte / n])"
   ]
  },
  {
   "cell_type": "code",
   "execution_count": 34,
   "metadata": {
    "vscode": {
     "languageId": "r"
    }
   },
   "outputs": [
    {
     "data": {
      "text/html": [
       "1.53736192332684"
      ],
      "text/latex": [
       "1.53736192332684"
      ],
      "text/markdown": [
       "1.53736192332684"
      ],
      "text/plain": [
       "[1] 1.537362"
      ]
     },
     "metadata": {},
     "output_type": "display_data"
    }
   ],
   "source": [
    "# risco relativo\n",
    "divide(aspirina[, morte / n])"
   ]
  },
  {
   "cell_type": "code",
   "execution_count": 32,
   "metadata": {
    "vscode": {
     "languageId": "r"
    }
   },
   "outputs": [
    {
     "data": {
      "text/html": [
       "1.56029810298103"
      ],
      "text/latex": [
       "1.56029810298103"
      ],
      "text/markdown": [
       "1.56029810298103"
      ],
      "text/plain": [
       "[1] 1.560298"
      ]
     },
     "metadata": {},
     "output_type": "display_data"
    }
   ],
   "source": [
    "# odds ratio\n",
    "divide(aspirina[, ps / pf])"
   ]
  },
  {
   "cell_type": "markdown",
   "metadata": {},
   "source": [
    "\n",
    "&emsp;__*b. Faça uma análise inferencial para esses dados. Interpretar resultados.*__"
   ]
  },
  {
   "cell_type": "markdown",
   "metadata": {},
   "source": [
    "#### Questão 2.27\n",
    "\n",
    "__*Um estudo sobre aspirações educacionais de estudantes do ensino médio (S. Crysdale, Int. J. Comp. Sociol., 16: 19-36, 1975) mediu as aspirações usando a escala (algumas escolas secundárias, graduados do ensino médio, algumas faculdades, graduados universitários). Para os alunos com baixa renda familiar, as contagens nestas categorias foram (9, 44, 13, 10);  quando a renda familiar era média, as contagens eram (11, 52, 23, 22); quando a renda familiar era alta, as contagens eram (9, 41, 12, 27).*__"
   ]
  },
  {
   "cell_type": "code",
   "execution_count": 72,
   "metadata": {
    "vscode": {
     "languageId": "r"
    }
   },
   "outputs": [
    {
     "data": {
      "text/html": [
       "<table class=\"dataframe\">\n",
       "<caption>A matrix: 4 × 3 of type dbl</caption>\n",
       "<thead>\n",
       "\t<tr><th scope=col>baixa</th><th scope=col>media</th><th scope=col>alta</th></tr>\n",
       "</thead>\n",
       "<tbody>\n",
       "\t<tr><td> 9</td><td>11</td><td> 9</td></tr>\n",
       "\t<tr><td>44</td><td>52</td><td>41</td></tr>\n",
       "\t<tr><td>13</td><td>23</td><td>12</td></tr>\n",
       "\t<tr><td>10</td><td>22</td><td>27</td></tr>\n",
       "</tbody>\n",
       "</table>\n"
      ],
      "text/latex": [
       "A matrix: 4 × 3 of type dbl\n",
       "\\begin{tabular}{lll}\n",
       " baixa & media & alta\\\\\n",
       "\\hline\n",
       "\t  9 & 11 &  9\\\\\n",
       "\t 44 & 52 & 41\\\\\n",
       "\t 13 & 23 & 12\\\\\n",
       "\t 10 & 22 & 27\\\\\n",
       "\\end{tabular}\n"
      ],
      "text/markdown": [
       "\n",
       "A matrix: 4 × 3 of type dbl\n",
       "\n",
       "| baixa | media | alta |\n",
       "|---|---|---|\n",
       "|  9 | 11 |  9 |\n",
       "| 44 | 52 | 41 |\n",
       "| 13 | 23 | 12 |\n",
       "| 10 | 22 | 27 |\n",
       "\n"
      ],
      "text/plain": [
       "     baixa media alta\n",
       "[1,]  9    11     9  \n",
       "[2,] 44    52    41  \n",
       "[3,] 13    23    12  \n",
       "[4,] 10    22    27  "
      ]
     },
     "metadata": {},
     "output_type": "display_data"
    }
   ],
   "source": [
    "(aspiracoes <- data.matrix(\n",
    "    data.table(\n",
    "        baixa = c(9, 44, 13, 10),\n",
    "        media = c(11, 52, 23, 22),\n",
    "        alta = c(9, 41, 12, 27)\n",
    "    )\n",
    "))"
   ]
  },
  {
   "cell_type": "markdown",
   "metadata": {},
   "source": [
    "__*a. Teste a independência de aspirações e renda familiar usando $X^2$ ou $G^2$. Interprete e explique a deficiência deste teste para esses dados.*__\n"
   ]
  },
  {
   "cell_type": "code",
   "execution_count": 70,
   "metadata": {
    "vscode": {
     "languageId": "r"
    }
   },
   "outputs": [
    {
     "data": {
      "text/plain": [
       "\n",
       "\tPearson's Chi-squared test\n",
       "\n",
       "data:  data.matrix(aspiracoes)\n",
       "X-squared = 8.8709, df = 6, p-value = 0.181\n"
      ]
     },
     "metadata": {},
     "output_type": "display_data"
    }
   ],
   "source": [
    "chisq.test(aspiracoes)"
   ]
  },
  {
   "cell_type": "code",
   "execution_count": 107,
   "metadata": {
    "vscode": {
     "languageId": "r"
    }
   },
   "outputs": [],
   "source": [
    "#fisher.test(aspiracoes)????"
   ]
  },
  {
   "cell_type": "markdown",
   "metadata": {},
   "source": [
    "__*b. Encontre os resíduos padronizados. Eles sugerem algum padrão de associação?*__"
   ]
  },
  {
   "cell_type": "code",
   "execution_count": 101,
   "metadata": {
    "vscode": {
     "languageId": "r"
    }
   },
   "outputs": [
    {
     "data": {
      "text/html": [
       "<table class=\"dataframe\">\n",
       "<caption>A matrix: 4 × 3 of type dbl</caption>\n",
       "<tbody>\n",
       "\t<tr><td> 0.006741041</td><td>-0.002602914</td><td>-0.003050124</td></tr>\n",
       "\t<tr><td> 0.008748446</td><td>-0.002526537</td><td>-0.005229193</td></tr>\n",
       "\t<tr><td>-0.001694031</td><td> 0.011793609</td><td>-0.016376301</td></tr>\n",
       "\t<tr><td>-0.030805078</td><td>-0.003628283</td><td> 0.020918763</td></tr>\n",
       "</tbody>\n",
       "</table>\n"
      ],
      "text/latex": [
       "A matrix: 4 × 3 of type dbl\n",
       "\\begin{tabular}{lll}\n",
       "\t  0.006741041 & -0.002602914 & -0.003050124\\\\\n",
       "\t  0.008748446 & -0.002526537 & -0.005229193\\\\\n",
       "\t -0.001694031 &  0.011793609 & -0.016376301\\\\\n",
       "\t -0.030805078 & -0.003628283 &  0.020918763\\\\\n",
       "\\end{tabular}\n"
      ],
      "text/markdown": [
       "\n",
       "A matrix: 4 × 3 of type dbl\n",
       "\n",
       "|  0.006741041 | -0.002602914 | -0.003050124 |\n",
       "|  0.008748446 | -0.002526537 | -0.005229193 |\n",
       "| -0.001694031 |  0.011793609 | -0.016376301 |\n",
       "| -0.030805078 | -0.003628283 |  0.020918763 |\n",
       "\n"
      ],
      "text/plain": [
       "     [,1]         [,2]         [,3]        \n",
       "[1,]  0.006741041 -0.002602914 -0.003050124\n",
       "[2,]  0.008748446 -0.002526537 -0.005229193\n",
       "[3,] -0.001694031  0.011793609 -0.016376301\n",
       "[4,] -0.030805078 -0.003628283  0.020918763"
      ]
     },
     "metadata": {},
     "output_type": "display_data"
    }
   ],
   "source": [
    "exp_freq <- function(x) {\n",
    "  n <- sum(x)\n",
    "\n",
    "  x <- x / n\n",
    "\n",
    "  d <- dim(x)\n",
    "\n",
    "  margins <- lapply(seq_along(d), function(i) apply(x, i, sum))\n",
    "\n",
    "  tab <- array(apply(expand.grid(margins), 1, prod), d, dimnames = dimnames(x))\n",
    "\n",
    "  return(tab * n)\n",
    "}\n",
    "\n",
    "standardized_residuals <- function(frequencies) {\n",
    "    residuals <- frequencies - exp_freq(frequencies)\n",
    "\n",
    "    std_residuals <- matrix(\n",
    "        nrow = nrow(residuals), ncol = ncol(residuals)\n",
    "    )\n",
    "\n",
    "    for (row in seq_len(nrow(residuals))) {\n",
    "        for (col in seq_len(ncol(residuals))) {\n",
    "            std_residuals[row, col] <- (\n",
    "                residuals[row, col] /\n",
    "                sqrt(\n",
    "                    frequencies[row, col] *\n",
    "                    (1 - sum(frequencies[row,])) * (1 - sum(frequencies[, col]))\n",
    "                )\n",
    "            )\n",
    "        }\n",
    "    }\n",
    "\n",
    "    return(std_residuals)\n",
    "}\n",
    "\n",
    "(residuos_padronizados <- standardized_residuals(aspiracoes))"
   ]
  },
  {
   "cell_type": "code",
   "execution_count": 104,
   "metadata": {
    "vscode": {
     "languageId": "r"
    }
   },
   "outputs": [
    {
     "data": {
      "text/html": [
       "<table class=\"dataframe\">\n",
       "<caption>A matrix: 4 × 3 of type dbl</caption>\n",
       "<tbody>\n",
       "\t<tr><td>0.4973107</td><td>0.5010384</td><td>0.5012168</td></tr>\n",
       "\t<tr><td>0.4965099</td><td>0.5010079</td><td>0.5020861</td></tr>\n",
       "\t<tr><td>0.5006758</td><td>0.4952951</td><td>0.5065329</td></tr>\n",
       "\t<tr><td>0.5122875</td><td>0.5014475</td><td>0.4916552</td></tr>\n",
       "</tbody>\n",
       "</table>\n"
      ],
      "text/latex": [
       "A matrix: 4 × 3 of type dbl\n",
       "\\begin{tabular}{lll}\n",
       "\t 0.4973107 & 0.5010384 & 0.5012168\\\\\n",
       "\t 0.4965099 & 0.5010079 & 0.5020861\\\\\n",
       "\t 0.5006758 & 0.4952951 & 0.5065329\\\\\n",
       "\t 0.5122875 & 0.5014475 & 0.4916552\\\\\n",
       "\\end{tabular}\n"
      ],
      "text/markdown": [
       "\n",
       "A matrix: 4 × 3 of type dbl\n",
       "\n",
       "| 0.4973107 | 0.5010384 | 0.5012168 |\n",
       "| 0.4965099 | 0.5010079 | 0.5020861 |\n",
       "| 0.5006758 | 0.4952951 | 0.5065329 |\n",
       "| 0.5122875 | 0.5014475 | 0.4916552 |\n",
       "\n"
      ],
      "text/plain": [
       "     [,1]      [,2]      [,3]     \n",
       "[1,] 0.4973107 0.5010384 0.5012168\n",
       "[2,] 0.4965099 0.5010079 0.5020861\n",
       "[3,] 0.5006758 0.4952951 0.5065329\n",
       "[4,] 0.5122875 0.5014475 0.4916552"
      ]
     },
     "metadata": {},
     "output_type": "display_data"
    }
   ],
   "source": [
    "1 - pnorm(residuos_padronizados)"
   ]
  },
  {
   "cell_type": "markdown",
   "metadata": {},
   "source": [
    "__*c. Faça um teste mais poderoso. Interpretar resultados.*__"
   ]
  },
  {
   "cell_type": "code",
   "execution_count": 106,
   "metadata": {
    "vscode": {
     "languageId": "r"
    }
   },
   "outputs": [],
   "source": [
    "#fisher.test(aspiracoes)???"
   ]
  },
  {
   "cell_type": "markdown",
   "metadata": {},
   "source": [
    "#### Questão 2.30\n",
    "\n",
    "A Tabela 2.17 contém resultados de um estudo comparando radioterapia com cirurgia no tratamento do câncer de laringe. Use o teste exato de Fisher para testar:\n",
    "\n",
    "$H_0: \\theta = 1$\n",
    "\n",
    "$H_1: \\theta > 1$\n",
    "\n",
    "Interprete os resultados."
   ]
  },
  {
   "cell_type": "code",
   "execution_count": 36,
   "metadata": {
    "vscode": {
     "languageId": "r"
    }
   },
   "outputs": [
    {
     "data": {
      "text/html": [
       "<table class=\"dataframe\">\n",
       "<caption>A data.table: 2 × 3</caption>\n",
       "<thead>\n",
       "\t<tr><th scope=col>tratamento</th><th scope=col>sucesso</th><th scope=col>fracasso</th></tr>\n",
       "\t<tr><th scope=col>&lt;chr&gt;</th><th scope=col>&lt;dbl&gt;</th><th scope=col>&lt;dbl&gt;</th></tr>\n",
       "</thead>\n",
       "<tbody>\n",
       "\t<tr><td>cirurgia    </td><td>21</td><td>2</td></tr>\n",
       "\t<tr><td>radioterapia</td><td>15</td><td>3</td></tr>\n",
       "</tbody>\n",
       "</table>\n"
      ],
      "text/latex": [
       "A data.table: 2 × 3\n",
       "\\begin{tabular}{lll}\n",
       " tratamento & sucesso & fracasso\\\\\n",
       " <chr> & <dbl> & <dbl>\\\\\n",
       "\\hline\n",
       "\t cirurgia     & 21 & 2\\\\\n",
       "\t radioterapia & 15 & 3\\\\\n",
       "\\end{tabular}\n"
      ],
      "text/markdown": [
       "\n",
       "A data.table: 2 × 3\n",
       "\n",
       "| tratamento &lt;chr&gt; | sucesso &lt;dbl&gt; | fracasso &lt;dbl&gt; |\n",
       "|---|---|---|\n",
       "| cirurgia     | 21 | 2 |\n",
       "| radioterapia | 15 | 3 |\n",
       "\n"
      ],
      "text/plain": [
       "  tratamento   sucesso fracasso\n",
       "1 cirurgia     21      2       \n",
       "2 radioterapia 15      3       "
      ]
     },
     "metadata": {},
     "output_type": "display_data"
    }
   ],
   "source": [
    "(cancer <- data.table(\n",
    "    tratamento = c(\"cirurgia\", \"radioterapia\"),\n",
    "    sucesso = c(21, 15),\n",
    "    fracasso = c(2, 3)\n",
    "))"
   ]
  },
  {
   "cell_type": "code",
   "execution_count": 110,
   "metadata": {
    "vscode": {
     "languageId": "r"
    }
   },
   "outputs": [
    {
     "data": {
      "text/plain": [
       "\n",
       "\tFisher's Exact Test for Count Data\n",
       "\n",
       "data:  cancer[, !\"tratamento\", with = FALSE]\n",
       "p-value = 0.6384\n",
       "alternative hypothesis: true odds ratio is not equal to 1\n",
       "95 percent confidence interval:\n",
       "  0.2089115 27.5538747\n",
       "sample estimates:\n",
       "odds ratio \n",
       "  2.061731 \n"
      ]
     },
     "metadata": {},
     "output_type": "display_data"
    }
   ],
   "source": [
    "fisher.test(cancer[, !\"tratamento\", with = FALSE])"
   ]
  }
 ],
 "metadata": {
  "kernelspec": {
   "display_name": "R",
   "language": "R",
   "name": "ir"
  },
  "language_info": {
   "codemirror_mode": "r",
   "file_extension": ".r",
   "mimetype": "text/x-r-source",
   "name": "R",
   "pygments_lexer": "r",
   "version": "4.1.3"
  },
  "orig_nbformat": 4,
  "vscode": {
   "interpreter": {
    "hash": "e7370f93d1d0cde622a1f8e1c04877d8463912d04d973331ad4851f04de6915a"
   }
  }
 },
 "nbformat": 4,
 "nbformat_minor": 2
}
